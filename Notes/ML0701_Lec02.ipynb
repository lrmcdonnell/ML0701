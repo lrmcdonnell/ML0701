{
  "nbformat": 4,
  "nbformat_minor": 0,
  "metadata": {
    "colab": {
      "provenance": []
    },
    "kernelspec": {
      "name": "python3",
      "display_name": "Python 3"
    },
    "language_info": {
      "name": "python"
    }
  },
  "cells": [
    {
      "cell_type": "markdown",
      "source": [
        "#Perceptron Algorithm\n",
        "Supervised learning\n",
        "###Online Learning Model\n",
        "- examples arrive sequentially\n",
        "- we need to make a prediction\n",
        "- afterward observe the outcome\n",
        "\n",
        "Steps:\n",
        "- 1. Input example $x_i$\n",
        "- 2. Output a prediction $h(x_i)$\n",
        "- 3. Observe true label\n",
        "\n",
        "Goal: minimize number of mistakes\n",
        "\n",
        "###Linear Separators\n",
        "- Feature space $X = \\mathbb{R}^d$\n",
        "- Hypothesis class of linear decision surfaces in $\\mathbb{R}^d$\n",
        "- ex. $h(x_i) = w \\cdot x + w_0$\n"
      ],
      "metadata": {
        "id": "R7BHBLNx1gcG"
      }
    },
    {
      "cell_type": "markdown",
      "source": [
        "###Perceptron Algorithm\n",
        "- set $t = 1$, start with the zero vector $w_1$\n",
        "- given example $x$, predict positive iff $w_t \\cdot x \\ge 0$\n",
        "- on a mistake, update as follows:\n",
        "  - mistake on positive example, then update $w_{t+1} ← w_t + x$\n",
        "  - mistake on negative example, then update $w_{t+1} ← w_t - x$\n",
        "- $w_t$ is weighted sum of incorrectly classified examples: $w_t = a_1x_1 + ... + a_ix_i$\n",
        "\n",
        "###Geometric Margin\n",
        "- Defn: the margin of example $x$ with respect to a linear separator $w$ is the distance from $x$ to $w \\cdot x = 0$ (distance to the separator)\n",
        "- If data has margin $\\gamma$ and all points inside a ball of radius $R$, then perceptron makes $\\le (R/\\gamma)^2$ mistakes"
      ],
      "metadata": {
        "id": "pvIi8avn4YaY"
      }
    }
  ]
}